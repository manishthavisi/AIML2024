{
  "nbformat": 4,
  "nbformat_minor": 0,
  "metadata": {
    "colab": {
      "provenance": []
    },
    "kernelspec": {
      "name": "python3",
      "display_name": "Python 3"
    },
    "language_info": {
      "name": "python"
    }
  },
  "cells": [
    {
      "cell_type": "code",
      "execution_count": 1,
      "metadata": {
        "colab": {
          "base_uri": "https://localhost:8080/"
        },
        "id": "XzFZV2ELw6AN",
        "outputId": "e11140f1-e155-4fbc-9135-ded4a84850ee"
      },
      "outputs": [
        {
          "output_type": "stream",
          "name": "stdout",
          "text": [
            "1. Lists: [1, 2, 3, 4] [5, 6, 7, 8]\n",
            "2. Arrays: [1 2 3 4] [5 6 7 8]\n",
            "3. Types: <class 'list'> <class 'numpy.ndarray'>\n",
            "4. Mathematical Operations:\n",
            "   Multiplication: [ 5 12 21 32]\n",
            "   Division: [0.2        0.33333333 0.42857143 0.5       ]\n",
            "   Power Off: [    1    64  2187 65536]\n",
            "5. Textual Output: Addition of Two: [1 2 3 4] + [5 6 7 8]\n",
            "6. Numpy Functions:\n",
            "   sin: [ 0.84147098  0.90929743  0.14112001 -0.7568025 ]\n",
            "   log: [0.         0.69314718 1.09861229 1.38629436]\n",
            "   log2: [0.        1.        1.5849625 2.       ]\n",
            "   exp: [ 2.71828183  7.3890561  20.08553692 54.59815003]\n"
          ]
        }
      ],
      "source": [
        "import numpy as np\n",
        "import pandas as pd\n",
        "\n",
        "# 1. Lists\n",
        "list1 = [1, 2, 3, 4]\n",
        "list2 = [5, 6, 7, 8]\n",
        "\n",
        "# 2. Arrays\n",
        "array1 = np.array(list1)\n",
        "array2 = np.array(list2)\n",
        "\n",
        "# 3. Identify their type using type()\n",
        "type_list1 = type(list1)\n",
        "type_array1 = type(array1)\n",
        "\n",
        "# 4. Perform mathematical operations\n",
        "multiplication_result = array1 * array2\n",
        "division_result = array1 / array2\n",
        "poweroff_result = np.power(array1, array2)\n",
        "\n",
        "# 5. Combine text with Numpy function\n",
        "text_output = f\"Addition of Two: {array1} + {array2}\"\n",
        "\n",
        "# 6. Implement np.sin(), log(), log2(), np.exp()\n",
        "sin_result = np.sin(array1)\n",
        "log_result = np.log(array1)\n",
        "log2_result = np.log2(array1)\n",
        "exp_result = np.exp(array1)\n",
        "\n",
        "# Displaying results\n",
        "print(\"1. Lists:\", list1, list2)\n",
        "print(\"2. Arrays:\", array1, array2)\n",
        "print(\"3. Types:\", type_list1, type_array1)\n",
        "print(\"4. Mathematical Operations:\")\n",
        "print(\"   Multiplication:\", multiplication_result)\n",
        "print(\"   Division:\", division_result)\n",
        "print(\"   Power Off:\", poweroff_result)\n",
        "print(\"5. Textual Output:\", text_output)\n",
        "print(\"6. Numpy Functions:\")\n",
        "print(\"   sin:\", sin_result)\n",
        "print(\"   log:\", log_result)\n",
        "print(\"   log2:\", log2_result)\n",
        "print(\"   exp:\", exp_result)"
      ]
    }
  ]
}